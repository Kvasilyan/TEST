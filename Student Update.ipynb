git status
git status





clear
git add "Student Update.ipynb"
git status
